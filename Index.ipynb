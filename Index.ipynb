{
 "cells": [
  {
   "cell_type": "markdown",
   "id": "0fd68569",
   "metadata": {},
   "source": [
    "### **A Comparative Analysis of Public Sentiment on Twitter towards Apple and Google Products using Natural Language Processing.**  \n"
   ]
  },
  {
   "cell_type": "markdown",
   "id": "f73d33c7",
   "metadata": {},
   "source": [
    "**Group Name: Group 5**\n",
    "\n",
    "**Members**\n",
    "1. *Rose Miriti*\n",
    "2. *Isaac Wadhare*\n",
    "3. *Lydia Chumba*\n",
    "4. *Erick Mauti*\n",
    "5. *Marilyn Akinyi*\n",
    "6. *Rodgers Otieno*\n",
    "7. *Samwel Ongechi*\n",
    "\n",
    "**Technical Mentor: George Kamundia**\n",
    "\n",
    "**Phase: Phase 3 Project**\n",
    "\n",
    "**Deadline:**"
   ]
  },
  {
   "cell_type": "markdown",
   "id": "ca37a25d",
   "metadata": {},
   "source": [
    "### **Table of Content**"
   ]
  }
 ],
 "metadata": {
  "kernelspec": {
   "display_name": "base",
   "language": "python",
   "name": "python3"
  },
  "language_info": {
   "codemirror_mode": {
    "name": "ipython",
    "version": 3
   },
   "file_extension": ".py",
   "mimetype": "text/x-python",
   "name": "python",
   "nbconvert_exporter": "python",
   "pygments_lexer": "ipython3",
   "version": "3.13.5"
  }
 },
 "nbformat": 4,
 "nbformat_minor": 5
}
